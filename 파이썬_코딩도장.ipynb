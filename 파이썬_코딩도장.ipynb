{
  "nbformat": 4,
  "nbformat_minor": 0,
  "metadata": {
    "colab": {
      "provenance": [],
      "authorship_tag": "ABX9TyNbSACITFX1LqaATk4LXe6b"
    },
    "kernelspec": {
      "name": "python3",
      "display_name": "Python 3"
    },
    "language_info": {
      "name": "python"
    }
  },
  "cells": [
    {
      "cell_type": "markdown",
      "source": [
        "# UNIT 1\n",
        "\n",
        "## 소프트웨어 교육과 파이썬"
      ],
      "metadata": {
        "id": "1pfbS-DBr1cJ"
      }
    },
    {
      "cell_type": "markdown",
      "source": [
        "1. 문제 해결을 위한 과학적 사고 -> 복잡한 문제를 작은 문제로 분해\n",
        "\n",
        "2. 컴퓨터 사고\n",
        "\n",
        "문제의 해결랙 -> 컴퓨터 명령어\n",
        "\n",
        "즉, 작은 문제로 분해하고, 문제의 패턴을 발견하고, 어떤 데이터를 이용해야 하는지 결정하고, 문제를 일반화"
      ],
      "metadata": {
        "id": "WugfKMsysFVv"
      }
    },
    {
      "cell_type": "markdown",
      "source": [
        "# UNIT 4\n",
        "\n",
        "## 기본 문법 알아보기"
      ],
      "metadata": {
        "id": "bOwTDlaqxB2R"
      }
    },
    {
      "cell_type": "code",
      "execution_count": null,
      "metadata": {
        "colab": {
          "base_uri": "https://localhost:8080/"
        },
        "id": "dU14R5h3rdnK",
        "outputId": "fd0d7e6e-15fc-4d96-d003-7b6368360773"
      },
      "outputs": [
        {
          "output_type": "stream",
          "name": "stdout",
          "text": [
            "Hell, world\n"
          ]
        }
      ],
      "source": [
        "print(\"Hell, world\")"
      ]
    },
    {
      "cell_type": "code",
      "source": [
        "print(\"Hello\"); print('1234')"
      ],
      "metadata": {
        "colab": {
          "base_uri": "https://localhost:8080/"
        },
        "id": "2DVO4XYixMyS",
        "outputId": "e7921017-2fbc-4e4c-ff3d-157559070f28"
      },
      "execution_count": null,
      "outputs": [
        {
          "output_type": "stream",
          "name": "stdout",
          "text": [
            "Hello\n",
            "1234\n"
          ]
        }
      ]
    },
    {
      "cell_type": "code",
      "source": [
        "보통 블록 주서을 작성할때 코드를 읽기 쉽도록 # 뒤에 공백을 한칸 띄웁니다.\n",
        "\n",
        " # 더하기\n",
        "# a = 1 + 2\n",
        "# print('hello, world')"
      ],
      "metadata": {
        "id": "L1ws_bFjxWyR"
      },
      "execution_count": null,
      "outputs": []
    },
    {
      "cell_type": "markdown",
      "source": [
        "# UNIT 29\n",
        "\n",
        "## 함수 사용하기"
      ],
      "metadata": {
        "id": "WQ2BjE6tmbe4"
      }
    },
    {
      "cell_type": "code",
      "source": [],
      "metadata": {
        "id": "8cUqH6rUmfdp"
      },
      "execution_count": null,
      "outputs": []
    },
    {
      "cell_type": "markdown",
      "source": [
        "# UNIT 30\n",
        "\n",
        "## 함수에서 위치 인수와 키워드 인수 사용하기"
      ],
      "metadata": {
        "id": "5Ptje3_6prVL"
      }
    },
    {
      "cell_type": "code",
      "source": [
        "# 위치인수와 리스트 언패킹 사용하기\n",
        "\n",
        "print(10,20,30)"
      ],
      "metadata": {
        "colab": {
          "base_uri": "https://localhost:8080/"
        },
        "id": "PEanaDVdptlh",
        "outputId": "26631c0d-2eab-48cc-8ea7-9eb6add3160d"
      },
      "execution_count": null,
      "outputs": [
        {
          "output_type": "stream",
          "name": "stdout",
          "text": [
            "10 20 30\n"
          ]
        }
      ]
    },
    {
      "cell_type": "code",
      "source": [
        "def print_numbers(a,b,c):\n",
        "    print(a)\n",
        "    print(b)\n",
        "    print(c)\n",
        "\n",
        "print_numbers(10,20,30)"
      ],
      "metadata": {
        "colab": {
          "base_uri": "https://localhost:8080/"
        },
        "id": "DGUQku4TqEUl",
        "outputId": "1468bea4-3b22-467b-9b9d-df7748a13634"
      },
      "execution_count": null,
      "outputs": [
        {
          "output_type": "stream",
          "name": "stdout",
          "text": [
            "10\n",
            "20\n",
            "30\n"
          ]
        }
      ]
    },
    {
      "cell_type": "code",
      "source": [
        "# 언패킹 사용하기 : 인수를 순서대로 넣을 때는 리스트나 튜플을 사용할 수도 있다. 다음과 같이 리스트 또는 튜플 앞에 * 를 붙여서 함수에 넣어주면 된다.\n",
        "# 함수(*리스트)\n",
        "# 함수(*튜플)\n",
        "\n",
        "x = [10, 20, 30]\n",
        "print_numbers(*x) # 사용자 함수에 인수를 넣을때는 리스트 포장을 풀어야 한다. 꼭 *의 의미는 포장을 푼다는 것이다.\n",
        "print_numbers(*[10,20,30])\n",
        "\n",
        "# 단 이때 함수의 매개변수 개수와 리스트의 요소 개수는 같아야 한다. 반드시"
      ],
      "metadata": {
        "colab": {
          "base_uri": "https://localhost:8080/"
        },
        "id": "jSOGMM-0rvgp",
        "outputId": "852d8c1a-6dc7-4f1e-9dd4-557fec5c2e2e"
      },
      "execution_count": null,
      "outputs": [
        {
          "output_type": "stream",
          "name": "stdout",
          "text": [
            "10\n",
            "20\n",
            "30\n",
            "10\n",
            "20\n",
            "30\n"
          ]
        }
      ]
    },
    {
      "cell_type": "code",
      "source": [
        "# 가변 인수 함수 만들기\n",
        "def 함수이름(*매개변수): # 함수에 인수 한개를 넣을수도 있고, 열개를 넣을수도 있고 안넣을수도 있다.\n",
        "    코드\n",
        "\n",
        "def print_numbers(*args):\n",
        "    for arg in args:\n",
        "        print(arg)"
      ],
      "metadata": {
        "id": "NL0Izvm8si4u"
      },
      "execution_count": null,
      "outputs": []
    },
    {
      "cell_type": "code",
      "source": [
        "print_numbers(10)\n",
        "\n",
        "print_numbers(10, 20, 30, 40, 30, 50)"
      ],
      "metadata": {
        "colab": {
          "base_uri": "https://localhost:8080/"
        },
        "id": "1xhT-l2fsZIr",
        "outputId": "e381a5ea-5f69-4e68-d48b-404557471fa2"
      },
      "execution_count": null,
      "outputs": [
        {
          "output_type": "stream",
          "name": "stdout",
          "text": [
            "10\n",
            "10\n",
            "20\n",
            "30\n",
            "40\n",
            "30\n",
            "50\n"
          ]
        }
      ]
    },
    {
      "cell_type": "code",
      "source": [
        "x = [10]\n",
        "print_numbers(*x)\n",
        "\n",
        "y = [10, 20, 30, 40]\n",
        "print_numbers(*y)"
      ],
      "metadata": {
        "colab": {
          "base_uri": "https://localhost:8080/"
        },
        "id": "V5b6-53UuQIV",
        "outputId": "96d5721d-ec67-47f3-87e2-54b0149c352e"
      },
      "execution_count": null,
      "outputs": [
        {
          "output_type": "stream",
          "name": "stdout",
          "text": [
            "10\n",
            "10\n",
            "20\n",
            "30\n",
            "40\n"
          ]
        }
      ]
    },
    {
      "cell_type": "code",
      "source": [
        "# 고정인수와 가변 인수를 함께 사용하기\n",
        "\n",
        "def print_numbers(a, *args):\n",
        "    print(a)\n",
        "    print(args)\n",
        "\n",
        "print_numbers(1)\n",
        "print_numbers(1,10,20)\n",
        "print_numbers(*[10,20,30])"
      ],
      "metadata": {
        "colab": {
          "base_uri": "https://localhost:8080/"
        },
        "id": "xdT5qG-nukad",
        "outputId": "73c90b93-9d93-468f-8056-33c19a32fadd"
      },
      "execution_count": null,
      "outputs": [
        {
          "output_type": "stream",
          "name": "stdout",
          "text": [
            "1\n",
            "()\n",
            "1\n",
            "(10, 20)\n",
            "10\n",
            "(20, 30)\n"
          ]
        }
      ]
    },
    {
      "cell_type": "code",
      "source": [
        "# 키워드 인수 사용하기\n",
        "\n"
      ],
      "metadata": {
        "id": "T4lzlcdEvaqq"
      },
      "execution_count": null,
      "outputs": []
    },
    {
      "cell_type": "markdown",
      "source": [
        "# UNIT 33\n",
        "\n",
        "## 클로저 사용하기\n",
        "\n",
        "변수의 사용범위와 함수의 클로저\n",
        "\n",
        "클로저는 개념이 다소 어려울 수 있으므로 변수의 사용 범위부터 설명"
      ],
      "metadata": {
        "id": "kd6UbJmQEMhH"
      }
    },
    {
      "cell_type": "code",
      "source": [
        "# 전역변수\n",
        "\n",
        "x = 10\n",
        "\n",
        "def foo():\n",
        "    print(x)\n",
        "\n",
        "foo()\n",
        "\n",
        "print(x)"
      ],
      "metadata": {
        "colab": {
          "base_uri": "https://localhost:8080/"
        },
        "id": "L30Il1EyEQeD",
        "outputId": "e81d3c9a-5eb9-49d7-c2e2-fed5302debae"
      },
      "execution_count": 7,
      "outputs": [
        {
          "output_type": "stream",
          "name": "stdout",
          "text": [
            "10\n",
            "10\n"
          ]
        }
      ]
    },
    {
      "cell_type": "code",
      "source": [
        "def foo():\n",
        "    x = 100  # foo의 지역변수\n",
        "    print(x) # foo의 지역 변수 출력\n",
        "\n",
        "foo()\n",
        "print(x)"
      ],
      "metadata": {
        "colab": {
          "base_uri": "https://localhost:8080/"
        },
        "id": "tbmYx57MJAZ8",
        "outputId": "04ed26f3-1d2b-4e57-cb04-62e976b2d73a"
      },
      "execution_count": 10,
      "outputs": [
        {
          "output_type": "stream",
          "name": "stdout",
          "text": [
            "100\n",
            "10\n"
          ]
        }
      ]
    },
    {
      "cell_type": "code",
      "source": [
        "# 함수 안에서 전역변수 변경하기\n",
        "\n",
        "x = 10  # 전역 변수\n",
        "\n",
        "def foo():  # x 는 foo의 지역 변수\n",
        "    x = 20  # foo의 지역 변수 출력\n",
        "    print(x)  \n",
        "\n",
        "foo()\n",
        "print(x)  # 전역 변수 출력"
      ],
      "metadata": {
        "colab": {
          "base_uri": "https://localhost:8080/"
        },
        "id": "ma2V7lzmJKlT",
        "outputId": "3a740e7a-da32-4c92-eb32-35a858b0f18e"
      },
      "execution_count": 11,
      "outputs": [
        {
          "output_type": "stream",
          "name": "stdout",
          "text": [
            "20\n",
            "10\n"
          ]
        }
      ]
    },
    {
      "cell_type": "code",
      "source": [
        "x = 10   # 전역 변수\n",
        "\n",
        "def foo(): \n",
        "    global x  # 전역 변수 x를 사용하겠다고 설정\n",
        "    x = 20   # x는 전역 변수\n",
        "    print(x)  # 전역 변수 출력\n",
        "\n",
        "foo()\n",
        "print(x)   # 전역 변수 출력"
      ],
      "metadata": {
        "colab": {
          "base_uri": "https://localhost:8080/"
        },
        "id": "lb1uJG95Jy6T",
        "outputId": "3a420fab-f552-451c-f37c-828bbc7ff2f4"
      },
      "execution_count": 12,
      "outputs": [
        {
          "output_type": "stream",
          "name": "stdout",
          "text": [
            "20\n",
            "20\n"
          ]
        }
      ]
    },
    {
      "cell_type": "code",
      "source": [
        "# 전역 변수 x가 없는 상태\n",
        "def foo():\n",
        "    global x  # x를 전역 변수로 만듦\n",
        "    x = 20  # x는 전역 변수\n",
        "    print(x)  # 전역 변수 출력\n",
        "\n",
        "foo()\n",
        "print(x)"
      ],
      "metadata": {
        "colab": {
          "base_uri": "https://localhost:8080/"
        },
        "id": "FWTj09ePKlwZ",
        "outputId": "7964c6ce-6dd7-45d8-db79-e1bd3fc9b8bc"
      },
      "execution_count": 13,
      "outputs": [
        {
          "output_type": "stream",
          "name": "stdout",
          "text": [
            "20\n",
            "20\n"
          ]
        }
      ]
    },
    {
      "cell_type": "code",
      "source": [
        "# 네임스페이스\n",
        "x = 10\n",
        "locals()"
      ],
      "metadata": {
        "id": "k9U2lZktLJqy"
      },
      "execution_count": null,
      "outputs": []
    },
    {
      "cell_type": "code",
      "source": [
        "def foo():\n",
        "    x = 10\n",
        "    print(locals())\n",
        "\n",
        "foo()"
      ],
      "metadata": {
        "colab": {
          "base_uri": "https://localhost:8080/"
        },
        "id": "H2Cq5JeTLROT",
        "outputId": "3e365674-9170-47b9-ec97-42f34e54e2a7"
      },
      "execution_count": 18,
      "outputs": [
        {
          "output_type": "stream",
          "name": "stdout",
          "text": [
            "{'x': 10}\n"
          ]
        }
      ]
    },
    {
      "cell_type": "code",
      "source": [
        "# 함수 안에서 함수 만들기\n",
        "def 함수이름1():\n",
        "    코드\n",
        "    def 함수이름2():\n",
        "        코드"
      ],
      "metadata": {
        "id": "W3UVrhjFLgo9"
      },
      "execution_count": null,
      "outputs": []
    },
    {
      "cell_type": "code",
      "source": [
        "def print_hello():\n",
        "    hello = 'hello, world!'\n",
        "    def print_message():\n",
        "        print(hello)\n",
        "    print_message()\n",
        "\n",
        "print_hello()"
      ],
      "metadata": {
        "colab": {
          "base_uri": "https://localhost:8080/"
        },
        "id": "mU5scv5ML6Pt",
        "outputId": "9b53934b-880a-4759-cb26-3c1542782117"
      },
      "execution_count": 35,
      "outputs": [
        {
          "output_type": "stream",
          "name": "stdout",
          "text": [
            "hello, world!\n"
          ]
        }
      ]
    },
    {
      "cell_type": "code",
      "source": [
        "# 지역 변수의 범위\n",
        "\n",
        "def print_hello():\n",
        "    hello = 'hellp, world!'\n",
        "    def print_message():\n",
        "        print(hello)  # 바깥쪽 함수의 지역 변수를 사용"
      ],
      "metadata": {
        "id": "TjSV2FsLOPcX"
      },
      "execution_count": 22,
      "outputs": []
    },
    {
      "cell_type": "code",
      "source": [
        "# 지역 변수 변경하기\n",
        "def A():\n",
        "    x = 10   # A의 지역 변수 x\n",
        "    def B():\n",
        "        x = 20  # x에 20 할당, 즉 B의 지역 변수 x를 새로 만듦\n",
        "    \n",
        "    B()\n",
        "    print(x)   # A의 지역 변수 x 출력\n",
        "\n",
        "A()"
      ],
      "metadata": {
        "colab": {
          "base_uri": "https://localhost:8080/"
        },
        "id": "08Ff-3ZGOm24",
        "outputId": "11c448c0-ba7b-4216-8002-345926509e18"
      },
      "execution_count": 23,
      "outputs": [
        {
          "output_type": "stream",
          "name": "stdout",
          "text": [
            "10\n"
          ]
        }
      ]
    },
    {
      "cell_type": "code",
      "source": [
        "# 지역 변수 변경하기\n",
        "def A():\n",
        "    x = 10   # A의 지역 변수 x\n",
        "    def B():\n",
        "        nonlocal x # 현재 함수의 바깥쪽에 있는 지역 변수 사용\n",
        "        x = 20  # A의 지역 변수에 xdp 20 할당\n",
        "    \n",
        "    B()\n",
        "    print(x)   # A의 지역 변수 x 출력\n",
        "\n",
        "A()\n",
        "\n",
        "# 이제 함수 B에서 함수 A의 지역 변수 x를 변경할 수 있습니다. 즉,nonlocal은 현재 함수의 지역 변수가 아니라는 뜻이며 바깥쪽 함수의 지역 변수를 사용합니다."
      ],
      "metadata": {
        "colab": {
          "base_uri": "https://localhost:8080/"
        },
        "id": "0el7I00DPPbB",
        "outputId": "1c6b78f0-3519-4b6e-f56c-6e41fdaa6fad"
      },
      "execution_count": 24,
      "outputs": [
        {
          "output_type": "stream",
          "name": "stdout",
          "text": [
            "20\n"
          ]
        }
      ]
    },
    {
      "cell_type": "code",
      "source": [
        "# nonlocal이 변수를 찾는 순서 : nonlocal은 현재 함수의 바깥쪽에 있는 지역 변수를 찾을때 가장 가까운 함수부터 먼저 찾습니다. 이번에는 함수의 단계를 A,B,C로 만들었습니다.\n",
        "\n",
        "def A():\n",
        "    x = 10\n",
        "    y = 100\n",
        "    def B():\n",
        "        x = 20\n",
        "        def C():\n",
        "            nonlocal x\n",
        "            nonlocal y\n",
        "            x = x + 30\n",
        "            y = y + 300\n",
        "            print(x)\n",
        "            print(y)\n",
        "        C()\n",
        "    B()\n",
        "A()\n",
        "\n",
        "# 실무에서는 이렇게 여러 단계로 함수를 만들 일은 거의 없습니다. 그리고 함수마다 이름이 같은 변수를 사용하기보다는 변수 이름을 다르게 짓은 것이 좋습니다.\n",
        "\n"
      ],
      "metadata": {
        "colab": {
          "base_uri": "https://localhost:8080/"
        },
        "id": "qFEM4HNHQruw",
        "outputId": "fb2c970a-0bcc-4111-d075-d0be5f6fd925"
      },
      "execution_count": 25,
      "outputs": [
        {
          "output_type": "stream",
          "name": "stdout",
          "text": [
            "50\n",
            "400\n"
          ]
        }
      ]
    },
    {
      "cell_type": "code",
      "source": [
        "# global로 전역 변수 사용하기\n",
        "\n",
        "x = 1\n",
        "\n",
        "def A():\n",
        "    x = 10\n",
        "    def B():\n",
        "        x = 20\n",
        "        def C():\n",
        "            global x\n",
        "            x = x +30\n",
        "            print(x)\n",
        "        C()\n",
        "    B()\n",
        "A()"
      ],
      "metadata": {
        "colab": {
          "base_uri": "https://localhost:8080/"
        },
        "id": "hkoAuQb3SQlC",
        "outputId": "6039e044-b19f-43f3-e4b2-10080c91e315"
      },
      "execution_count": 31,
      "outputs": [
        {
          "output_type": "stream",
          "name": "stdout",
          "text": [
            "31\n"
          ]
        }
      ]
    },
    {
      "cell_type": "code",
      "source": [
        "# 클로저 사용하기\n",
        "\n",
        "def calc():\n",
        "    a = 3\n",
        "    b = 5\n",
        "    def mul_add(x):\n",
        "        nonlocal a, b   \n",
        "\n",
        "        return a * x + b # 함수 바깥쪽에 있는 지역 변수 a,b를 사용하여 계산\n",
        "   \n",
        "    return mul_add  # mul_add 함수를 반환\n",
        "\n",
        "c = calc()   # c = calc()  -> c = mul_add() 으로 바뀌는게 클로저 이다. 즉 여기서 c에 저장된 함수가 클로저입니다. \n",
        "print(c(1), c(2), c(3))\n",
        "\n",
        "# 이처럼 클로저를 사용하면 프로그램의 흐름을 변수에 저장 할수 있다. 즉, 클로저는 지역변수와 코드를 묶어서 사용하고 싶을 때 활용한다. 또한 클로저에 속한 지역변수는 바깥에서 직접 접근 할 수 없으므로 데이터를 숨기고 싶을때 활용한다."
      ],
      "metadata": {
        "colab": {
          "base_uri": "https://localhost:8080/"
        },
        "id": "zeem9tkDTJEa",
        "outputId": "e9aa9450-c21a-4dfc-fe2c-cdeccd4a8330"
      },
      "execution_count": 58,
      "outputs": [
        {
          "output_type": "stream",
          "name": "stdout",
          "text": [
            "8 11 14\n"
          ]
        }
      ]
    },
    {
      "cell_type": "code",
      "source": [
        "# lambad로 클로저 만들기\n",
        "\n",
        "def calc():\n",
        "    a = 3\n",
        "    b = 5\n",
        "    return lambda x: a * x + b\n",
        "\n",
        "c = calc()\n",
        "print(c(1), c(2), c(3))"
      ],
      "metadata": {
        "colab": {
          "base_uri": "https://localhost:8080/"
        },
        "id": "f3aukrEhUO0t",
        "outputId": "0bc0060e-1be5-4aa8-a838-812e69f0a680"
      },
      "execution_count": 38,
      "outputs": [
        {
          "output_type": "stream",
          "name": "stdout",
          "text": [
            "8 11 14\n"
          ]
        }
      ]
    },
    {
      "cell_type": "code",
      "source": [
        "# 클로저의 지역변수 변경하기\n",
        "\n",
        "def calc():\n",
        "    a = 3\n",
        "    b = 5\n",
        "    total = 0\n",
        "\n",
        "    def mul_add(x):\n",
        "        nonlocal total\n",
        "        total = total + a * x + b # 내가 이때까지 잘못 알았네 밖에 초기값이 설정되면 이제 덮어쓰기로 저장하면 초기값이 새로 저장되는 거네.################## \n",
        "        print(total)\n",
        "\n",
        "    return mul_add\n",
        "\n",
        "c = calc()\n",
        "\n",
        "print(c(1))\n",
        "print(c(2))\n",
        "print(c(3))\n",
        "\n",
        "\n"
      ],
      "metadata": {
        "colab": {
          "base_uri": "https://localhost:8080/"
        },
        "id": "U4wENNkSiwq6",
        "outputId": "695386fb-1294-4a38-9aec-20a35db906c4"
      },
      "execution_count": 72,
      "outputs": [
        {
          "output_type": "stream",
          "name": "stdout",
          "text": [
            "8\n",
            "None\n",
            "19\n",
            "None\n",
            "33\n",
            "None\n"
          ]
        }
      ]
    },
    {
      "cell_type": "markdown",
      "source": [
        "지역변수는 함수 바깥쪽에서 사용할 수 없습니다.\n",
        "\n",
        "함수 밖에 있는 변수가 함수 안으로 들어오는 건 가능하다. 반대는 안된다."
      ],
      "metadata": {
        "id": "0A-5ZVeroMSa"
      }
    },
    {
      "cell_type": "code",
      "source": [],
      "metadata": {
        "id": "1olHdGg9iwuV"
      },
      "execution_count": null,
      "outputs": []
    },
    {
      "cell_type": "code",
      "source": [],
      "metadata": {
        "id": "WkHEQmuyiwym"
      },
      "execution_count": null,
      "outputs": []
    },
    {
      "cell_type": "code",
      "source": [
        "1\tdef listSum(numbers):\n",
        "2\t  if not numbers:\n",
        "3\t    return 0\n",
        "4\t  else:\n",
        "5\t    (f, rest) = numbers\n",
        "6\t    return f + listSum(rest)\n",
        "7\t\n",
        "8\tmyList = (1, (2, (3, None)))\n",
        "9\ttotal = listSum(myList)"
      ],
      "metadata": {
        "id": "ECQ_VBBhac5e"
      },
      "execution_count": null,
      "outputs": []
    },
    {
      "cell_type": "markdown",
      "source": [
        "# UNIT 34\n",
        "\n",
        "## 클래스 사용하기\n"
      ],
      "metadata": {
        "id": "Wf0vT3o8y-8N"
      }
    },
    {
      "cell_type": "code",
      "source": [
        "특정한 개념이나 모양으로 존재하는 것을 객체라고 부릅니다.\n",
        "클래스는 객체를 표현하기 위한 문법이다.\n",
        "프로그래밍으로 객체를 만들때 사용하는 것이 클래스입니다.\n",
        "속성과 메서드\n",
        "객체지향 프로그래밍은 복잡한 문제를 잘게 나누어 객체로 만들고, 객체를 조합해서 문제를 해결합니다. 따라서 현실세계의 복잡한 문제를 처리하는데 유용하며 기능을 개선하고 발전시킬때도 해당 클래스만 수정되면 되므로 유지보수에도 효율적입니다.\n",
        "클래스의 이름은 대문자로 시작합니다.\n",
        "들여쓰기 규칙 if, for, while과 같다.\n",
        "메서드의 첫번째 매개변수는 반드시 self를 지정해야 합니다."
      ],
      "metadata": {
        "id": "Jw8qo-7h0C7b"
      },
      "execution_count": null,
      "outputs": []
    },
    {
      "cell_type": "code",
      "source": [
        "class 클래스이름:\n",
        "    def 메서드(self):\n",
        "        코드"
      ],
      "metadata": {
        "id": "enCeiUi51fxz"
      },
      "execution_count": null,
      "outputs": []
    },
    {
      "cell_type": "code",
      "source": [
        "class Person:\n",
        "    def greeting(self):\n",
        "        print('hello')"
      ],
      "metadata": {
        "id": "3lGUsi5E1wnY"
      },
      "execution_count": null,
      "outputs": []
    },
    {
      "cell_type": "code",
      "source": [
        "james = Person() # 클래스는 특정 개념을 표현할뿐 사용을 할려면 인스턴스를 생성해야 한다."
      ],
      "metadata": {
        "id": "ciNYIbcM2Bhq"
      },
      "execution_count": null,
      "outputs": []
    },
    {
      "cell_type": "code",
      "source": [
        "james.greeting()"
      ],
      "metadata": {
        "colab": {
          "base_uri": "https://localhost:8080/"
        },
        "id": "RqJ2Q_up2H1a",
        "outputId": "7775adf7-be86-4815-99c0-44c171cabda9"
      },
      "execution_count": null,
      "outputs": [
        {
          "output_type": "stream",
          "name": "stdout",
          "text": [
            "hello\n"
          ]
        }
      ]
    },
    {
      "cell_type": "code",
      "source": [
        "a = int(10)\n",
        "a\n",
        "\n",
        "b = list(range(10))\n",
        "b\n",
        "\n",
        "c = dict(x=10, y=20)\n",
        "c\n",
        "\n"
      ],
      "metadata": {
        "colab": {
          "base_uri": "https://localhost:8080/"
        },
        "id": "oyXxOCDk2hjy",
        "outputId": "334659a1-afa3-4567-b912-073f31450f84"
      },
      "execution_count": null,
      "outputs": [
        {
          "output_type": "execute_result",
          "data": {
            "text/plain": [
              "{'x': 10, 'y': 20}"
            ]
          },
          "metadata": {},
          "execution_count": 8
        }
      ]
    },
    {
      "cell_type": "code",
      "source": [
        "a = 10\n",
        "type(a)\n",
        "\n",
        "maria = Person()\n",
        "type(maria)\n",
        "\n",
        "# 사실 객체와 인스턴스는 같은 뜻이다."
      ],
      "metadata": {
        "colab": {
          "base_uri": "https://localhost:8080/"
        },
        "id": "LNLSntkM3JmM",
        "outputId": "1a259c92-644d-4dfe-e285-333b76bb87a7"
      },
      "execution_count": null,
      "outputs": [
        {
          "output_type": "execute_result",
          "data": {
            "text/plain": [
              "__main__.Person"
            ]
          },
          "metadata": {},
          "execution_count": 10
        }
      ]
    },
    {
      "cell_type": "code",
      "source": [
        "# 빈클래스 만들기\n",
        "\n",
        "class Person:\n",
        "    pass"
      ],
      "metadata": {
        "id": "oWmTXlm53lgM"
      },
      "execution_count": null,
      "outputs": []
    },
    {
      "cell_type": "code",
      "source": [
        "# 메서드 안에서 메서드 호출하기\n",
        "\n",
        "class Person:\n",
        "    def greeting(self):\n",
        "        print('hello')\n",
        "\n",
        "    def hello(self):\n",
        "        self.greeting()  # self.메서드() 형식으로 클래스 안의 메서를 호출\n",
        "\n",
        "james = Person()\n",
        "james.hello()\n"
      ],
      "metadata": {
        "colab": {
          "base_uri": "https://localhost:8080/"
        },
        "id": "gWb6h1uG37q6",
        "outputId": "1213ac1f-7444-475c-e4aa-715889becc76"
      },
      "execution_count": null,
      "outputs": [
        {
          "output_type": "stream",
          "name": "stdout",
          "text": [
            "hello\n"
          ]
        }
      ]
    },
    {
      "cell_type": "code",
      "source": [
        "# 특정 클래스의 인스턴스인지 확인하기\n",
        "\n",
        "class Person:\n",
        "    pass\n",
        "\n",
        "james = Person()\n",
        "isinstance(james, Person)"
      ],
      "metadata": {
        "colab": {
          "base_uri": "https://localhost:8080/"
        },
        "id": "4iJwNYhR5PrS",
        "outputId": "649d164f-082f-44fd-fd8e-04ff2e9bdde4"
      },
      "execution_count": null,
      "outputs": [
        {
          "output_type": "execute_result",
          "data": {
            "text/plain": [
              "True"
            ]
          },
          "metadata": {},
          "execution_count": 15
        }
      ]
    },
    {
      "cell_type": "code",
      "source": [
        "def factorial(n):\n",
        "    if not isinstance(n, int) or n < 0: # n이 정수가 아니거나 음수이면 함수를 끝냄\n",
        "        return None\n",
        "    \n",
        "    if n == 1:\n",
        "        return 1\n",
        "    \n",
        "    return n * factorial(n-1)"
      ],
      "metadata": {
        "id": "XbiumvgV5bu-"
      },
      "execution_count": null,
      "outputs": []
    },
    {
      "cell_type": "code",
      "source": [
        "# 속성 사용하기\n",
        "\n",
        "class 클래스이름:\n",
        "    def __init__(self):\n",
        "        self.속성 = 값"
      ],
      "metadata": {
        "id": "3MtNgyNZ52nq"
      },
      "execution_count": null,
      "outputs": []
    },
    {
      "cell_type": "code",
      "source": [
        "class Person:\n",
        "    def __init__(self):\n",
        "        self.hello = '안녕하세요'\n",
        "\n",
        "    def greeting(self):\n",
        "        print(self.hello)\n",
        "\n",
        "james = Person()\n",
        "james.greeting()\n",
        "\n",
        "# 클래스 속성을 사용할때도 self.hello처럼 self에 점을 붙여서 사용하면 된다."
      ],
      "metadata": {
        "colab": {
          "base_uri": "https://localhost:8080/"
        },
        "id": "L8a20HWW6UOl",
        "outputId": "2c1d066b-2df6-477e-981b-c7bacfa7f894"
      },
      "execution_count": null,
      "outputs": [
        {
          "output_type": "stream",
          "name": "stdout",
          "text": [
            "안녕하세요\n"
          ]
        }
      ]
    },
    {
      "cell_type": "code",
      "source": [
        "# self는 인스턴스 자기자신을 의미한다."
      ],
      "metadata": {
        "id": "NaUdzLYd-QWe"
      },
      "execution_count": null,
      "outputs": []
    },
    {
      "cell_type": "code",
      "source": [
        "# 인스턴스를 만들때 값을 받는 방법 알아보기\n",
        "\n",
        "class 클래스이름:\n",
        "    def __init__(self, 매개변수1, 매개변수2):\n",
        "        self.속성1 = 매개변수1\n",
        "        self.속성2 = 매개변수2"
      ],
      "metadata": {
        "id": "4dS5Dv3V-qRm"
      },
      "execution_count": null,
      "outputs": []
    },
    {
      "cell_type": "code",
      "source": [
        "class Person:\n",
        "    def __init__(self, name, age, address):\n",
        "        # self.hello = '안녕하세요'\n",
        "        self.name = name\n",
        "        self.age = age\n",
        "        self.address = address\n",
        "    \n",
        "    def greeting(self):\n",
        "        self.hello = '몰라'\n",
        "        print('{} 저는 {} 입니다.' .format(self.hello, self.name))\n",
        "\n",
        "maria = Person('마리아', 20, \"서울시 서초구 반포동\")\n",
        "maria.greeting()\n",
        "\n",
        "print(\"이름:\", maria.name) # 인스턴스.속성\n",
        "print('나이:', maria.age)  # 인스턴스.속성\n",
        "print('주소:', maria.address) # 인스턴스.속성\n",
        "\n",
        "############ maria == Person == self 이다. #####################\n",
        "# 질문 self.hello는 매개변수 없이도 만들수 있나?\n"
      ],
      "metadata": {
        "colab": {
          "base_uri": "https://localhost:8080/"
        },
        "id": "iqUkFhUL_Atc",
        "outputId": "d2806c79-a71f-4480-d40a-85d32c6d92c2"
      },
      "execution_count": 5,
      "outputs": [
        {
          "output_type": "stream",
          "name": "stdout",
          "text": [
            "몰라 저는 마리아 입니다.\n",
            "이름: 마리아\n",
            "나이: 20\n",
            "주소: 서울시 서초구 반포동\n"
          ]
        }
      ]
    },
    {
      "cell_type": "code",
      "source": [
        "# 클래스의 위치인수\n",
        "\n",
        "class Person:\n",
        "    def __init__(self, *args):\n",
        "        self.name = args[0]\n",
        "        self.age = args[1]\n",
        "        self.address = args[2]\n",
        "\n",
        "maria = Person(*['마리아', 20, \"서울시 서초구 반포동\"])"
      ],
      "metadata": {
        "id": "OzU1x7AlCrPm"
      },
      "execution_count": null,
      "outputs": []
    },
    {
      "cell_type": "code",
      "source": [
        "# 클래스의 키워드인수\n",
        "\n",
        "class Person:\n",
        "    def __init__(self, **kwargs):\n",
        "        self.name = kwargs['name']\n",
        "        self.age = kwargs['age']\n",
        "        self.address = kwargs['address']\n",
        "\n",
        "maria1 = Person(name='마리아', age= 20, address= \"서울시 서초구 반포동\")\n",
        "maria2 = Person(**{'name': '마리아', 'age': 20, 'address': '서울시 서초구 반포동'})"
      ],
      "metadata": {
        "id": "joCrHgp9GbDK"
      },
      "execution_count": null,
      "outputs": []
    },
    {
      "cell_type": "code",
      "source": [],
      "metadata": {
        "id": "rcpDoAAZHUEE"
      },
      "execution_count": null,
      "outputs": []
    }
  ]
}