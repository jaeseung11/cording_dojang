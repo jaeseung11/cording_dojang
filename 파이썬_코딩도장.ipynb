{
  "nbformat": 4,
  "nbformat_minor": 0,
  "metadata": {
    "colab": {
      "provenance": [],
      "authorship_tag": "ABX9TyNErvt8K2TVYP40DWd91bAw",
      "include_colab_link": true
    },
    "kernelspec": {
      "name": "python3",
      "display_name": "Python 3"
    },
    "language_info": {
      "name": "python"
    }
  },
  "cells": [
    {
      "cell_type": "markdown",
      "metadata": {
        "id": "view-in-github",
        "colab_type": "text"
      },
      "source": [
        "<a href=\"https://colab.research.google.com/github/jaeseung11/cording_dojang/blob/main/%ED%8C%8C%EC%9D%B4%EC%8D%AC_%EC%BD%94%EB%94%A9%EB%8F%84%EC%9E%A5.ipynb\" target=\"_parent\"><img src=\"https://colab.research.google.com/assets/colab-badge.svg\" alt=\"Open In Colab\"/></a>"
      ]
    },
    {
      "cell_type": "markdown",
      "source": [
        "# UNIT 1\n",
        "\n",
        "## 소프트웨어 교육과 파이썬"
      ],
      "metadata": {
        "id": "1pfbS-DBr1cJ"
      }
    },
    {
      "cell_type": "markdown",
      "source": [
        "1. 문제 해결을 위한 과학적 사고 -> 복잡한 문제를 작은 문제로 분해\n",
        "\n",
        "2. 컴퓨터 사고\n",
        "\n",
        "문제의 해결랙 -> 컴퓨터 명령어\n",
        "\n",
        "즉, 작은 문제로 분해하고, 문제의 패턴을 발견하고, 어떤 데이터를 이용해야 하는지 결정하고, 문제를 일반화"
      ],
      "metadata": {
        "id": "WugfKMsysFVv"
      }
    },
    {
      "cell_type": "markdown",
      "source": [
        "# UNIT 4\n",
        "기본 문법 알아보기"
      ],
      "metadata": {
        "id": "bOwTDlaqxB2R"
      }
    },
    {
      "cell_type": "code",
      "execution_count": null,
      "metadata": {
        "colab": {
          "base_uri": "https://localhost:8080/"
        },
        "id": "dU14R5h3rdnK",
        "outputId": "fd0d7e6e-15fc-4d96-d003-7b6368360773"
      },
      "outputs": [
        {
          "output_type": "stream",
          "name": "stdout",
          "text": [
            "Hell, world\n"
          ]
        }
      ],
      "source": [
        "print(\"Hell, world\")"
      ]
    },
    {
      "cell_type": "code",
      "source": [
        "print(\"Hello\"); print('1234')"
      ],
      "metadata": {
        "colab": {
          "base_uri": "https://localhost:8080/"
        },
        "id": "2DVO4XYixMyS",
        "outputId": "e7921017-2fbc-4e4c-ff3d-157559070f28"
      },
      "execution_count": null,
      "outputs": [
        {
          "output_type": "stream",
          "name": "stdout",
          "text": [
            "Hello\n",
            "1234\n"
          ]
        }
      ]
    },
    {
      "cell_type": "code",
      "source": [
        "보통 블록 주서을 작성할때 코드를 읽기 쉽도록 # 뒤에 공백을 한칸 띄웁니다.\n",
        "\n",
        " # 더하기\n",
        "# a = 1 + 2\n",
        "# print('hello, world')"
      ],
      "metadata": {
        "id": "L1ws_bFjxWyR"
      },
      "execution_count": null,
      "outputs": []
    },
    {
      "cell_type": "markdown",
      "source": [
        "# UNIT 29\n",
        "\n",
        "함수 사용하기"
      ],
      "metadata": {
        "id": "WQ2BjE6tmbe4"
      }
    },
    {
      "cell_type": "code",
      "source": [],
      "metadata": {
        "id": "8cUqH6rUmfdp"
      },
      "execution_count": null,
      "outputs": []
    },
    {
      "cell_type": "markdown",
      "source": [
        "# UNIT 30\n",
        "\n",
        "함수에서 위치 인수와 키워드 인수 사용하기"
      ],
      "metadata": {
        "id": "5Ptje3_6prVL"
      }
    },
    {
      "cell_type": "code",
      "source": [
        "# 위치인수와 리스트 언패킹 사용하기\n",
        "\n",
        "print(10,20,30)"
      ],
      "metadata": {
        "colab": {
          "base_uri": "https://localhost:8080/"
        },
        "id": "PEanaDVdptlh",
        "outputId": "26631c0d-2eab-48cc-8ea7-9eb6add3160d"
      },
      "execution_count": 1,
      "outputs": [
        {
          "output_type": "stream",
          "name": "stdout",
          "text": [
            "10 20 30\n"
          ]
        }
      ]
    },
    {
      "cell_type": "code",
      "source": [
        "def print_numbers(a,b,c):\n",
        "    print(a)\n",
        "    print(b)\n",
        "    print(c)\n",
        "\n",
        "print_numbers(10,20,30)"
      ],
      "metadata": {
        "colab": {
          "base_uri": "https://localhost:8080/"
        },
        "id": "DGUQku4TqEUl",
        "outputId": "1468bea4-3b22-467b-9b9d-df7748a13634"
      },
      "execution_count": 3,
      "outputs": [
        {
          "output_type": "stream",
          "name": "stdout",
          "text": [
            "10\n",
            "20\n",
            "30\n"
          ]
        }
      ]
    },
    {
      "cell_type": "code",
      "source": [
        "# 언패킹 사용하기 : 인수를 순서대로 넣을 때는 리스트나 튜플을 사용할 수도 있다. 다음과 같이 리스트 또는 튜플 앞에 * 를 붙여서 함수에 넣어주면 된다.\n",
        "# 함수(*리스트)\n",
        "# 함수(*튜플)\n",
        "\n",
        "x = [10, 20, 30]\n",
        "print_numbers(*x) # 사용자 함수에 인수를 넣을때는 리스트 포장을 풀어야 한다. 꼭 *의 의미는 포장을 푼다는 것이다.\n",
        "print_numbers(*[10,20,30])\n",
        "\n",
        "# 단 이때 함수의 매개변수 개수와 리스트의 요소 개수는 같아야 한다. 반드시"
      ],
      "metadata": {
        "colab": {
          "base_uri": "https://localhost:8080/"
        },
        "id": "jSOGMM-0rvgp",
        "outputId": "852d8c1a-6dc7-4f1e-9dd4-557fec5c2e2e"
      },
      "execution_count": 9,
      "outputs": [
        {
          "output_type": "stream",
          "name": "stdout",
          "text": [
            "10\n",
            "20\n",
            "30\n",
            "10\n",
            "20\n",
            "30\n"
          ]
        }
      ]
    },
    {
      "cell_type": "code",
      "source": [
        "# 가변 인수 함수 만들기\n",
        "def 함수이름(*매개변수): # 함수에 인수 한개를 넣을수도 있고, 열개를 넣을수도 있고 안넣을수도 있다.\n",
        "    코드\n",
        "\n",
        "def print_numbers(*args):\n",
        "    for arg in args:\n",
        "        print(arg)"
      ],
      "metadata": {
        "id": "NL0Izvm8si4u"
      },
      "execution_count": 10,
      "outputs": []
    },
    {
      "cell_type": "code",
      "source": [
        "print_numbers(10)\n",
        "\n",
        "print_numbers(10, 20, 30, 40, 30, 50)"
      ],
      "metadata": {
        "colab": {
          "base_uri": "https://localhost:8080/"
        },
        "id": "1xhT-l2fsZIr",
        "outputId": "e381a5ea-5f69-4e68-d48b-404557471fa2"
      },
      "execution_count": 13,
      "outputs": [
        {
          "output_type": "stream",
          "name": "stdout",
          "text": [
            "10\n",
            "10\n",
            "20\n",
            "30\n",
            "40\n",
            "30\n",
            "50\n"
          ]
        }
      ]
    },
    {
      "cell_type": "code",
      "source": [
        "x = [10]\n",
        "print_numbers(*x)\n",
        "\n",
        "y = [10, 20, 30, 40]\n",
        "print_numbers(*y)"
      ],
      "metadata": {
        "colab": {
          "base_uri": "https://localhost:8080/"
        },
        "id": "V5b6-53UuQIV",
        "outputId": "96d5721d-ec67-47f3-87e2-54b0149c352e"
      },
      "execution_count": 16,
      "outputs": [
        {
          "output_type": "stream",
          "name": "stdout",
          "text": [
            "10\n",
            "10\n",
            "20\n",
            "30\n",
            "40\n"
          ]
        }
      ]
    },
    {
      "cell_type": "code",
      "source": [
        "# 고정인수와 가변 인수를 함께 사용하기\n",
        "\n",
        "def print_numbers(a, *args):\n",
        "    print(a)\n",
        "    print(args)\n",
        "\n",
        "print_numbers(1)\n",
        "print_numbers(1,10,20)\n",
        "print_numbers(*[10,20,30])"
      ],
      "metadata": {
        "colab": {
          "base_uri": "https://localhost:8080/"
        },
        "id": "xdT5qG-nukad",
        "outputId": "73c90b93-9d93-468f-8056-33c19a32fadd"
      },
      "execution_count": 19,
      "outputs": [
        {
          "output_type": "stream",
          "name": "stdout",
          "text": [
            "1\n",
            "()\n",
            "1\n",
            "(10, 20)\n",
            "10\n",
            "(20, 30)\n"
          ]
        }
      ]
    },
    {
      "cell_type": "code",
      "source": [
        "# 키워드 인수 사용하기\n",
        "\n"
      ],
      "metadata": {
        "id": "T4lzlcdEvaqq"
      },
      "execution_count": null,
      "outputs": []
    },
    {
      "cell_type": "markdown",
      "source": [
        "# UNIT 34\n",
        "클래스 사용하기\n"
      ],
      "metadata": {
        "id": "Wf0vT3o8y-8N"
      }
    },
    {
      "cell_type": "code",
      "source": [
        "특정한 개념이나 모양으로 존재하는 것을 객체라고 부릅니다.\n",
        "클래스는 객체를 표현하기 위한 문법이다.\n",
        "프로그래밍으로 객체를 만들때 사용하는 것이 클래스입니다.\n",
        "속성과 메서드\n",
        "객체지향 프로그래밍은 복잡한 문제를 잘게 나누어 객체로 만들고, 객체를 조합해서 문제를 해결합니다. 따라서 현실세계의 복잡한 문제를 처리하는데 유용하며 기능을 개선하고 발전시킬때도 해당 클래스만 수정되면 되므로 유지보수에도 효율적입니다.\n",
        "클래스의 이름은 대문자로 시작합니다.\n",
        "들여쓰기 규칙 if, for, while과 같다.\n",
        "메서드의 첫번째 매개변수는 반드시 self를 지정해야 합니다."
      ],
      "metadata": {
        "id": "Jw8qo-7h0C7b"
      },
      "execution_count": null,
      "outputs": []
    },
    {
      "cell_type": "code",
      "source": [
        "class 클래스이름:\n",
        "    def 메서드(self):\n",
        "        코드"
      ],
      "metadata": {
        "id": "enCeiUi51fxz"
      },
      "execution_count": null,
      "outputs": []
    },
    {
      "cell_type": "code",
      "source": [
        "class Person:\n",
        "    def greeting(self):\n",
        "        print('hello')"
      ],
      "metadata": {
        "id": "3lGUsi5E1wnY"
      },
      "execution_count": null,
      "outputs": []
    },
    {
      "cell_type": "code",
      "source": [
        "james = Person() # 클래스는 특정 개념을 표현할뿐 사용을 할려면 인스턴스를 생성해야 한다."
      ],
      "metadata": {
        "id": "ciNYIbcM2Bhq"
      },
      "execution_count": null,
      "outputs": []
    },
    {
      "cell_type": "code",
      "source": [
        "james.greeting()"
      ],
      "metadata": {
        "colab": {
          "base_uri": "https://localhost:8080/"
        },
        "id": "RqJ2Q_up2H1a",
        "outputId": "7775adf7-be86-4815-99c0-44c171cabda9"
      },
      "execution_count": null,
      "outputs": [
        {
          "output_type": "stream",
          "name": "stdout",
          "text": [
            "hello\n"
          ]
        }
      ]
    },
    {
      "cell_type": "code",
      "source": [
        "a = int(10)\n",
        "a\n",
        "\n",
        "b = list(range(10))\n",
        "b\n",
        "\n",
        "c = dict(x=10, y=20)\n",
        "c\n",
        "\n"
      ],
      "metadata": {
        "colab": {
          "base_uri": "https://localhost:8080/"
        },
        "id": "oyXxOCDk2hjy",
        "outputId": "334659a1-afa3-4567-b912-073f31450f84"
      },
      "execution_count": null,
      "outputs": [
        {
          "output_type": "execute_result",
          "data": {
            "text/plain": [
              "{'x': 10, 'y': 20}"
            ]
          },
          "metadata": {},
          "execution_count": 8
        }
      ]
    },
    {
      "cell_type": "code",
      "source": [
        "a = 10\n",
        "type(a)\n",
        "\n",
        "maria = Person()\n",
        "type(maria)\n",
        "\n",
        "# 사실 객체와 인스턴스는 같은 뜻이다."
      ],
      "metadata": {
        "colab": {
          "base_uri": "https://localhost:8080/"
        },
        "id": "LNLSntkM3JmM",
        "outputId": "1a259c92-644d-4dfe-e285-333b76bb87a7"
      },
      "execution_count": null,
      "outputs": [
        {
          "output_type": "execute_result",
          "data": {
            "text/plain": [
              "__main__.Person"
            ]
          },
          "metadata": {},
          "execution_count": 10
        }
      ]
    },
    {
      "cell_type": "code",
      "source": [
        "# 빈클래스 만들기\n",
        "\n",
        "class Person:\n",
        "    pass"
      ],
      "metadata": {
        "id": "oWmTXlm53lgM"
      },
      "execution_count": null,
      "outputs": []
    },
    {
      "cell_type": "code",
      "source": [
        "# 메서드 안에서 메서드 호출하기\n",
        "\n",
        "class Person:\n",
        "    def greeting(self):\n",
        "        print('hello')\n",
        "\n",
        "    def hello(self):\n",
        "        self.greeting()  # self.메서드() 형식으로 클래스 안의 메서를 호출\n",
        "\n",
        "james = Person()\n",
        "james.hello()\n"
      ],
      "metadata": {
        "colab": {
          "base_uri": "https://localhost:8080/"
        },
        "id": "gWb6h1uG37q6",
        "outputId": "1213ac1f-7444-475c-e4aa-715889becc76"
      },
      "execution_count": null,
      "outputs": [
        {
          "output_type": "stream",
          "name": "stdout",
          "text": [
            "hello\n"
          ]
        }
      ]
    },
    {
      "cell_type": "code",
      "source": [
        "# 특정 클래스의 인스턴스인지 확인하기\n",
        "\n",
        "class Person:\n",
        "    pass\n",
        "\n",
        "james = Person()\n",
        "isinstance(james, Person)"
      ],
      "metadata": {
        "colab": {
          "base_uri": "https://localhost:8080/"
        },
        "id": "4iJwNYhR5PrS",
        "outputId": "649d164f-082f-44fd-fd8e-04ff2e9bdde4"
      },
      "execution_count": null,
      "outputs": [
        {
          "output_type": "execute_result",
          "data": {
            "text/plain": [
              "True"
            ]
          },
          "metadata": {},
          "execution_count": 15
        }
      ]
    },
    {
      "cell_type": "code",
      "source": [
        "def factorial(n):\n",
        "    if not isinstance(n, int) or n < 0: # n이 정수가 아니거나 음수이면 함수를 끝냄\n",
        "        return None\n",
        "    \n",
        "    if n == 1:\n",
        "        return 1\n",
        "    \n",
        "    return n * factorial(n-1)"
      ],
      "metadata": {
        "id": "XbiumvgV5bu-"
      },
      "execution_count": null,
      "outputs": []
    },
    {
      "cell_type": "code",
      "source": [
        "# 속성 사용하기\n",
        "\n",
        "class 클래스이름:\n",
        "    def __init__(self):\n",
        "        self.속성 = 값"
      ],
      "metadata": {
        "id": "3MtNgyNZ52nq"
      },
      "execution_count": null,
      "outputs": []
    },
    {
      "cell_type": "code",
      "source": [
        "class Person:\n",
        "    def __init__(self):\n",
        "        self.hello = '안녕하세요'\n",
        "\n",
        "    def greeting(self):\n",
        "        print(self.hello)\n",
        "\n",
        "james = Person()\n",
        "james.greeting()\n",
        "\n",
        "# 클래스 속성을 사용할때도 self.hello처럼 self에 점을 붙여서 사용하면 된다."
      ],
      "metadata": {
        "colab": {
          "base_uri": "https://localhost:8080/"
        },
        "id": "L8a20HWW6UOl",
        "outputId": "2c1d066b-2df6-477e-981b-c7bacfa7f894"
      },
      "execution_count": null,
      "outputs": [
        {
          "output_type": "stream",
          "name": "stdout",
          "text": [
            "안녕하세요\n"
          ]
        }
      ]
    },
    {
      "cell_type": "code",
      "source": [
        "# self는 인스턴스 자기자신을 의미한다."
      ],
      "metadata": {
        "id": "NaUdzLYd-QWe"
      },
      "execution_count": null,
      "outputs": []
    },
    {
      "cell_type": "code",
      "source": [
        "# 인스턴스를 만들때 값을 받는 방법 알아보기\n",
        "\n",
        "class 클래스이름:\n",
        "    def __init__(self, 매개변수1, 매개변수2):\n",
        "        self.속성1 = 매개변수1\n",
        "        self.속성2 = 매개변수2"
      ],
      "metadata": {
        "id": "4dS5Dv3V-qRm"
      },
      "execution_count": null,
      "outputs": []
    },
    {
      "cell_type": "code",
      "source": [
        "class Person:\n",
        "    def __init__(self, name, age, address):\n",
        "        self.hello = '안녕하세요'\n",
        "        self.name = name\n",
        "        self.age = age\n",
        "        self.address = address\n",
        "    \n",
        "    def greeting(self):\n",
        "        print('{} 저는 {} 입니다.' .format(self.hello, self.name))\n",
        "\n",
        "maria = Person('마리아', 20, \"서울시 서초구 반포동\")\n",
        "maria.greeting()\n",
        "\n",
        "print(\"이름:\", maria.name) # 인스턴스.속성\n",
        "print('나이:', maria.age)  # 인스턴스.속성\n",
        "print('주소:', maria.address) # 인스턴스.속성\n",
        "\n",
        "############ maria == Person == self 이다. #####################"
      ],
      "metadata": {
        "colab": {
          "base_uri": "https://localhost:8080/"
        },
        "id": "iqUkFhUL_Atc",
        "outputId": "93e00275-06c3-4b9a-eebd-1594595f7a58"
      },
      "execution_count": null,
      "outputs": [
        {
          "output_type": "stream",
          "name": "stdout",
          "text": [
            "안녕하세요 저는 마리아 입니다.\n",
            "이름: 마리아\n",
            "나이: 20\n",
            "주소: 서울시 서초구 반포동\n"
          ]
        }
      ]
    },
    {
      "cell_type": "code",
      "source": [
        "# 클래스의 위치인수\n",
        "\n",
        "class Person:\n",
        "    def __init__(self, *args):\n",
        "        self.name = args[0]\n",
        "        self.age = args[1]\n",
        "        self.address = args[2]\n",
        "\n",
        "maria = Person(*['마리아', 20, \"서울시 서초구 반포동\"])"
      ],
      "metadata": {
        "id": "OzU1x7AlCrPm"
      },
      "execution_count": null,
      "outputs": []
    },
    {
      "cell_type": "code",
      "source": [
        "# 클래스의 키워드인수\n",
        "\n",
        "class Person:\n",
        "    def __init__(self, **kwargs):\n",
        "        self.name = kwargs['name']\n",
        "        self.age = kwargs['age']\n",
        "        self.address = kwargs['address']\n",
        "\n",
        "maria1 = Person(name='마리아', age= 20, address= \"서울시 서초구 반포동\")\n",
        "maria2 = Person(**{'name': '마리아', 'age': 20, 'address': '서울시 서초구 반포동'})"
      ],
      "metadata": {
        "id": "joCrHgp9GbDK"
      },
      "execution_count": null,
      "outputs": []
    },
    {
      "cell_type": "code",
      "source": [],
      "metadata": {
        "id": "rcpDoAAZHUEE"
      },
      "execution_count": null,
      "outputs": []
    }
  ]
}