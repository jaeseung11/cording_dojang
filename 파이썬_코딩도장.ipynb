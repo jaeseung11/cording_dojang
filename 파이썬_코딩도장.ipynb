{
  "nbformat": 4,
  "nbformat_minor": 0,
  "metadata": {
    "colab": {
      "provenance": [],
      "authorship_tag": "ABX9TyM6ol4VPEowxS1cLZGcYUYr"
    },
    "kernelspec": {
      "name": "python3",
      "display_name": "Python 3"
    },
    "language_info": {
      "name": "python"
    }
  },
  "cells": [
    {
      "cell_type": "markdown",
      "source": [
        "# UNIT 1\n",
        "\n",
        "## 소프트웨어 교육과 파이썬"
      ],
      "metadata": {
        "id": "1pfbS-DBr1cJ"
      }
    },
    {
      "cell_type": "markdown",
      "source": [
        "1. 문제 해결을 위한 과학적 사고 -> 복잡한 문제를 작은 문제로 분해\n",
        "\n",
        "2. 컴퓨터 사고\n",
        "\n",
        "문제의 해결랙 -> 컴퓨터 명령어\n",
        "\n",
        "즉, 작은 문제로 분해하고, 문제의 패턴을 발견하고, 어떤 데이터를 이용해야 하는지 결정하고, 문제를 일반화"
      ],
      "metadata": {
        "id": "WugfKMsysFVv"
      }
    },
    {
      "cell_type": "markdown",
      "source": [
        "# UNIT 4\n",
        "기본 문법 알아보기"
      ],
      "metadata": {
        "id": "bOwTDlaqxB2R"
      }
    },
    {
      "cell_type": "code",
      "execution_count": 1,
      "metadata": {
        "colab": {
          "base_uri": "https://localhost:8080/"
        },
        "id": "dU14R5h3rdnK",
        "outputId": "fd0d7e6e-15fc-4d96-d003-7b6368360773"
      },
      "outputs": [
        {
          "output_type": "stream",
          "name": "stdout",
          "text": [
            "Hell, world\n"
          ]
        }
      ],
      "source": [
        "print(\"Hell, world\")"
      ]
    },
    {
      "cell_type": "code",
      "source": [
        "print(\"Hello\"); print('1234')"
      ],
      "metadata": {
        "colab": {
          "base_uri": "https://localhost:8080/"
        },
        "id": "2DVO4XYixMyS",
        "outputId": "e7921017-2fbc-4e4c-ff3d-157559070f28"
      },
      "execution_count": 2,
      "outputs": [
        {
          "output_type": "stream",
          "name": "stdout",
          "text": [
            "Hello\n",
            "1234\n"
          ]
        }
      ]
    },
    {
      "cell_type": "code",
      "source": [
        "보통 블록 주서을 작성할때 코드를 읽기 쉽도록 # 뒤에 공백을 한칸 띄웁니다.\n",
        "\n",
        " # 더하기\n",
        "# a = 1 + 2\n",
        "# print('hello, world')"
      ],
      "metadata": {
        "id": "L1ws_bFjxWyR"
      },
      "execution_count": null,
      "outputs": []
    },
    {
      "cell_type": "markdown",
      "source": [
        "# UNIT 34\n",
        "클래스 사용하기\n"
      ],
      "metadata": {
        "id": "Wf0vT3o8y-8N"
      }
    },
    {
      "cell_type": "code",
      "source": [
        "특정한 개념이나 모양으로 존재하는 것을 객체라고 부릅니다.\n",
        "클래스는 객체를 표현하기 위한 문법이다.\n",
        "프로그래밍으로 객체를 만들때 사용하는 것이 클래스입니다.\n",
        "속성과 메서드\n",
        "객체지향 프로그래밍은 복잡한 문제를 잘게 나누어 객체로 만들고, 객체를 조합해서 문제를 해결합니다. 따라서 현실세계의 복잡한 문제를 처리하는데 유용하며 기능을 개선하고 발전시킬때도 해당 클래스만 수정되면 되므로 유지보수에도 효율적입니다.\n",
        "클래스의 이름은 대문자로 시작합니다.\n",
        "들여쓰기 규칙 if, for, while과 같다.\n",
        "메서드의 첫번째 매개변수는 반드시 self를 지정해야 합니다."
      ],
      "metadata": {
        "id": "Jw8qo-7h0C7b"
      },
      "execution_count": null,
      "outputs": []
    },
    {
      "cell_type": "code",
      "source": [
        "class 클래스이름:\n",
        "    def 메서드(self):\n",
        "        코드"
      ],
      "metadata": {
        "id": "enCeiUi51fxz"
      },
      "execution_count": 4,
      "outputs": []
    },
    {
      "cell_type": "code",
      "source": [
        "class Person:\n",
        "    def greeting(self):\n",
        "        print('hello')"
      ],
      "metadata": {
        "id": "3lGUsi5E1wnY"
      },
      "execution_count": 5,
      "outputs": []
    },
    {
      "cell_type": "code",
      "source": [
        "james = Person() # 클래스는 특정 개념을 표현할뿐 사용을 할려면 인스턴스를 생성해야 한다."
      ],
      "metadata": {
        "id": "ciNYIbcM2Bhq"
      },
      "execution_count": 6,
      "outputs": []
    },
    {
      "cell_type": "code",
      "source": [
        "james.greeting()"
      ],
      "metadata": {
        "colab": {
          "base_uri": "https://localhost:8080/"
        },
        "id": "RqJ2Q_up2H1a",
        "outputId": "7775adf7-be86-4815-99c0-44c171cabda9"
      },
      "execution_count": 7,
      "outputs": [
        {
          "output_type": "stream",
          "name": "stdout",
          "text": [
            "hello\n"
          ]
        }
      ]
    },
    {
      "cell_type": "code",
      "source": [
        "a = int(10)\n",
        "a\n",
        "\n",
        "b = list(range(10))\n",
        "b\n",
        "\n",
        "c = dict(x=10, y=20)\n",
        "c\n",
        "\n"
      ],
      "metadata": {
        "colab": {
          "base_uri": "https://localhost:8080/"
        },
        "id": "oyXxOCDk2hjy",
        "outputId": "334659a1-afa3-4567-b912-073f31450f84"
      },
      "execution_count": 8,
      "outputs": [
        {
          "output_type": "execute_result",
          "data": {
            "text/plain": [
              "{'x': 10, 'y': 20}"
            ]
          },
          "metadata": {},
          "execution_count": 8
        }
      ]
    },
    {
      "cell_type": "code",
      "source": [
        "a = 10\n",
        "type(a)\n",
        "\n",
        "maria = Person()\n",
        "type(maria)\n",
        "\n",
        "# 사실 객체와 인스턴스는 같은 뜻이다."
      ],
      "metadata": {
        "colab": {
          "base_uri": "https://localhost:8080/"
        },
        "id": "LNLSntkM3JmM",
        "outputId": "1a259c92-644d-4dfe-e285-333b76bb87a7"
      },
      "execution_count": 10,
      "outputs": [
        {
          "output_type": "execute_result",
          "data": {
            "text/plain": [
              "__main__.Person"
            ]
          },
          "metadata": {},
          "execution_count": 10
        }
      ]
    },
    {
      "cell_type": "code",
      "source": [
        "# 빈클래스 만들기\n",
        "\n",
        "class Person:\n",
        "    pass"
      ],
      "metadata": {
        "id": "oWmTXlm53lgM"
      },
      "execution_count": 12,
      "outputs": []
    },
    {
      "cell_type": "code",
      "source": [
        "# 메서드 안에서 메서드 호출하기\n",
        "\n",
        "class Person:\n",
        "    def greeting(self):\n",
        "        print('hello')\n",
        "\n",
        "    def hello(self):\n",
        "        self.greeting()  # self.메서드() 형식으로 클래스 안의 메서를 호출\n",
        "\n",
        "james = Person()\n",
        "james.hello()\n"
      ],
      "metadata": {
        "colab": {
          "base_uri": "https://localhost:8080/"
        },
        "id": "gWb6h1uG37q6",
        "outputId": "1213ac1f-7444-475c-e4aa-715889becc76"
      },
      "execution_count": 14,
      "outputs": [
        {
          "output_type": "stream",
          "name": "stdout",
          "text": [
            "hello\n"
          ]
        }
      ]
    },
    {
      "cell_type": "code",
      "source": [
        "# 특정 클래스의 인스턴스인지 확인하기\n",
        "\n",
        "class Person:\n",
        "    pass\n",
        "\n",
        "james = Person()\n",
        "isinstance(james, Person)"
      ],
      "metadata": {
        "colab": {
          "base_uri": "https://localhost:8080/"
        },
        "id": "4iJwNYhR5PrS",
        "outputId": "649d164f-082f-44fd-fd8e-04ff2e9bdde4"
      },
      "execution_count": 15,
      "outputs": [
        {
          "output_type": "execute_result",
          "data": {
            "text/plain": [
              "True"
            ]
          },
          "metadata": {},
          "execution_count": 15
        }
      ]
    },
    {
      "cell_type": "code",
      "source": [
        "def factorial(n):\n",
        "    if not isinstance(n, int) or n < 0: # n이 정수가 아니거나 음수이면 함수를 끝냄\n",
        "        return None\n",
        "    \n",
        "    if n == 1:\n",
        "        return 1\n",
        "    \n",
        "    return n * factorial(n-1)"
      ],
      "metadata": {
        "id": "XbiumvgV5bu-"
      },
      "execution_count": 16,
      "outputs": []
    },
    {
      "cell_type": "code",
      "source": [
        "# 속성 사용하기\n",
        "\n",
        "class 클래스이름:\n",
        "    def __init__(self):\n",
        "        self.속성 = 값"
      ],
      "metadata": {
        "id": "3MtNgyNZ52nq"
      },
      "execution_count": null,
      "outputs": []
    },
    {
      "cell_type": "code",
      "source": [
        "class Person:\n",
        "    def __init__(self):\n",
        "        self.hello = '안녕하세요'\n",
        "\n",
        "    def greeting(self):\n",
        "        print(self.hello)\n",
        "\n",
        "james = Person()\n",
        "james.greeting()\n",
        "\n",
        "# 클래스 속성을 사용할때도 self.hello처럼 self에 점을 붙여서 사용하면 된다."
      ],
      "metadata": {
        "colab": {
          "base_uri": "https://localhost:8080/"
        },
        "id": "L8a20HWW6UOl",
        "outputId": "2c1d066b-2df6-477e-981b-c7bacfa7f894"
      },
      "execution_count": 23,
      "outputs": [
        {
          "output_type": "stream",
          "name": "stdout",
          "text": [
            "안녕하세요\n"
          ]
        }
      ]
    },
    {
      "cell_type": "code",
      "source": [
        "# self는 인스턴스 자기자신을 의미한다."
      ],
      "metadata": {
        "id": "NaUdzLYd-QWe"
      },
      "execution_count": null,
      "outputs": []
    },
    {
      "cell_type": "code",
      "source": [
        "# 인스턴스를 만들때 값을 받는 방법 알아보기\n",
        "\n",
        "class 클래스이름:\n",
        "    def __init__(self, 매개변수1, 매개변수2):\n",
        "        self.속성1 = 매개변수1\n",
        "        self.속성2 = 매개변수2"
      ],
      "metadata": {
        "id": "4dS5Dv3V-qRm"
      },
      "execution_count": null,
      "outputs": []
    },
    {
      "cell_type": "code",
      "source": [
        "class Person:\n",
        "    def __init__(self, name, age, address):\n",
        "        self.hello = '안녕하세요'\n",
        "        self.name = name\n",
        "        self.age = age\n",
        "        self.address = address\n",
        "    \n",
        "    def greeting(self):\n",
        "        print('{} 저는 {} 입니다.' .format(self.hello, self.name))\n",
        "\n",
        "maria = Person('마리아', 20, \"서울시 서초구 반포동\")\n",
        "maria.greeting()\n",
        "\n",
        "print(\"이름:\", maria.name) # 인스턴스.속성\n",
        "print('나이:', maria.age)  # 인스턴스.속성\n",
        "print('주소:', maria.address) # 인스턴스.속성\n",
        "\n",
        "############ maria == Person == self 이다. #####################"
      ],
      "metadata": {
        "colab": {
          "base_uri": "https://localhost:8080/"
        },
        "id": "iqUkFhUL_Atc",
        "outputId": "93e00275-06c3-4b9a-eebd-1594595f7a58"
      },
      "execution_count": 26,
      "outputs": [
        {
          "output_type": "stream",
          "name": "stdout",
          "text": [
            "안녕하세요 저는 마리아 입니다.\n",
            "이름: 마리아\n",
            "나이: 20\n",
            "주소: 서울시 서초구 반포동\n"
          ]
        }
      ]
    },
    {
      "cell_type": "code",
      "source": [
        "# 클래스의 위치인수\n",
        "\n",
        "class Person:\n",
        "    def __init__(self, *args):\n",
        "        self.name = args[0]\n",
        "        self.age = args[1]\n",
        "        self.address = args[2]\n",
        "\n",
        "maria = Person(*['마리아', 20, \"서울시 서초구 반포동\"])"
      ],
      "metadata": {
        "id": "OzU1x7AlCrPm"
      },
      "execution_count": 28,
      "outputs": []
    },
    {
      "cell_type": "code",
      "source": [
        "# 클래스의 키워드인수\n",
        "\n",
        "class Person:\n",
        "    def __init__(self, **kwargs):\n",
        "        self.name = kwargs['name']\n",
        "        self.age = kwargs['age']\n",
        "        self.address = kwargs['address']\n",
        "\n",
        "maria1 = Person(name='마리아', age= 20, address= \"서울시 서초구 반포동\")\n",
        "maria2 = Person(**{'name': '마리아', 'age': 20, 'address': '서울시 서초구 반포동'})"
      ],
      "metadata": {
        "id": "joCrHgp9GbDK"
      },
      "execution_count": 29,
      "outputs": []
    },
    {
      "cell_type": "code",
      "source": [],
      "metadata": {
        "id": "rcpDoAAZHUEE"
      },
      "execution_count": null,
      "outputs": []
    }
  ]
}